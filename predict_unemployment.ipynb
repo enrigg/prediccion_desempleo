{
 "cells": [
  {
   "cell_type": "code",
   "execution_count": 1,
   "id": "fd3e050e",
   "metadata": {},
   "outputs": [
    {
     "name": "stderr",
     "output_type": "stream",
     "text": [
      "C:\\Users\\enriq\\anaconda3\\envs\\ml\\lib\\site-packages\\scipy\\__init__.py:146: UserWarning: A NumPy version >=1.16.5 and <1.23.0 is required for this version of SciPy (detected version 1.23.5\n",
      "  warnings.warn(f\"A NumPy version >={np_minversion} and <{np_maxversion}\"\n"
     ]
    },
    {
     "name": "stdout",
     "output_type": "stream",
     "text": [
      "torch installation could not be found, only numpy activation functions allowed\n"
     ]
    }
   ],
   "source": [
    "### Load libraries ###\n",
    "\n",
    "# interactive plotting\n",
    "#%matplotlib inline\n",
    "#%config InlineBackend.figure_format = 'svg' # ‘png’, ‘retina’, ‘jpeg’, ‘svg’, ‘pdf’\n",
    "\n",
    "# plotting libraries\n",
    "import seaborn as sns\n",
    "import matplotlib.pyplot as plt\n",
    "sns.set()\n",
    "\n",
    "# Data management libraries\n",
    "import numpy as np # linear algebra\n",
    "import pandas as pd # data processing, CSV file I/O (e.g. pd.read_csv)\n",
    "\n",
    "# Machine learning libraries\n",
    "import math\n",
    "from sklearn.model_selection import train_test_split, GridSearchCV\n",
    "from sklearn.pipeline import Pipeline\n",
    "from sklearn.preprocessing import StandardScaler, OneHotEncoder\n",
    "from sklearn.metrics import mean_squared_error, r2_score, mean_absolute_error\n",
    "from sklearn.compose import ColumnTransformer\n",
    "from statsmodels.tsa.stattools import adfuller\n",
    "\n",
    "from sklearn.neural_network import MLPRegressor\n",
    "import pandas as pd\n",
    "from statsmodels.tsa.statespace.sarimax import SARIMAX\n",
    "# Machine Learning libraries\n",
    "from statsmodels.tsa.seasonal import seasonal_decompose, STL\n",
    "\n",
    "\n",
    "from sklearn import set_config\n",
    "set_config(display='diagram')\n",
    "plt.rcParams.update({'figure.figsize': (12, 5), 'figure.dpi': 120})\n",
    "\n",
    "\n",
    "from neuralsens import partial_derivatives as ns\n",
    "import scipy as sp\n",
    "\n",
    "# Statsmodels time series \n",
    "#from statsmodels.tsa import SARIMAX\n",
    "import statsmodels.api as sm\n",
    "\n",
    "# Datetime for managing dates\n",
    "from datetime import datetime\n",
    "import scipy.stats as st"
   ]
  },
  {
   "cell_type": "markdown",
   "id": "b3257c9b",
   "metadata": {},
   "source": [
    "---\n",
    "## 1. Read the dataset\n",
    "\n",
    "Indicamos que la variable date tiene fechas (parse_dates), para decirle que no es una variable mas sino que es un indice de fechas. \n",
    "\n",
    "Al leer el df, no lo configuramos como una variable más sino como un indice. "
   ]
  },
  {
   "cell_type": "code",
   "execution_count": 2,
   "id": "a7ae2b97",
   "metadata": {},
   "outputs": [
    {
     "data": {
      "text/html": [
       "<div>\n",
       "<style scoped>\n",
       "    .dataframe tbody tr th:only-of-type {\n",
       "        vertical-align: middle;\n",
       "    }\n",
       "\n",
       "    .dataframe tbody tr th {\n",
       "        vertical-align: top;\n",
       "    }\n",
       "\n",
       "    .dataframe thead th {\n",
       "        text-align: right;\n",
       "    }\n",
       "</style>\n",
       "<table border=\"1\" class=\"dataframe\">\n",
       "  <thead>\n",
       "    <tr style=\"text-align: right;\">\n",
       "      <th></th>\n",
       "      <th>TOTAL</th>\n",
       "    </tr>\n",
       "    <tr>\n",
       "      <th>DATE</th>\n",
       "      <th></th>\n",
       "    </tr>\n",
       "  </thead>\n",
       "  <tbody>\n",
       "    <tr>\n",
       "      <th>2001-01-01</th>\n",
       "      <td>2017389</td>\n",
       "    </tr>\n",
       "    <tr>\n",
       "      <th>2001-02-01</th>\n",
       "      <td>1993273</td>\n",
       "    </tr>\n",
       "    <tr>\n",
       "      <th>2001-03-01</th>\n",
       "      <td>1981006</td>\n",
       "    </tr>\n",
       "    <tr>\n",
       "      <th>2001-04-01</th>\n",
       "      <td>1910453</td>\n",
       "    </tr>\n",
       "    <tr>\n",
       "      <th>2001-05-01</th>\n",
       "      <td>1898285</td>\n",
       "    </tr>\n",
       "  </tbody>\n",
       "</table>\n",
       "</div>"
      ],
      "text/plain": [
       "              TOTAL\n",
       "DATE               \n",
       "2001-01-01  2017389\n",
       "2001-02-01  1993273\n",
       "2001-03-01  1981006\n",
       "2001-04-01  1910453\n",
       "2001-05-01  1898285"
      ]
     },
     "execution_count": 2,
     "metadata": {},
     "output_type": "execute_result"
    }
   ],
   "source": [
    "# Import data\n",
    "dateparse = lambda x :datetime.strptime(x ,\"%d/%m/%Y\")\n",
    "\n",
    "df = pd.read_csv('UnemploymentSpain.dat',sep='\\t', parse_dates=['DATE'], dayfirst=True, date_parser=dateparse, index_col='DATE')\n",
    "\n",
    "df.head()"
   ]
  },
  {
   "cell_type": "code",
   "execution_count": 3,
   "id": "095b0922",
   "metadata": {},
   "outputs": [
    {
     "data": {
      "text/plain": [
       "(262, 1)"
      ]
     },
     "execution_count": 3,
     "metadata": {},
     "output_type": "execute_result"
    }
   ],
   "source": [
    "df.shape"
   ]
  },
  {
   "cell_type": "code",
   "execution_count": 4,
   "id": "c0d39eac",
   "metadata": {},
   "outputs": [
    {
     "data": {
      "image/png": "[encoded data removed]",
      "text/plain": [
       "<Figure size 432x288 with 1 Axes>"
      ]
     },
     "metadata": {
      "needs_background": "light"
     },
     "output_type": "display_data"
    }
   ],
   "source": [
    "# Plotting a time series\n",
    "fig, ax = plt.subplots()\n",
    "ax.plot('TOTAL', data=df)\n",
    "ax.set(title='Unemployment data in Spain from 2009 to 2020', xlabel='DATE', ylabel='# Employed')\n",
    "plt.show()"
   ]
  },
  {
   "cell_type": "markdown",
   "id": "93c3983b",
   "metadata": {},
   "source": [
    "Vemos que no hay **constancia ni en la media ni en la varianza**, por lo que deberemos estabilizarlas.\n",
    "\n",
    "Viendo esta serie, aun no puedo saber si es autorregresiva, ruido blanco o lo que sea."
   ]
  },
  {
   "cell_type": "code",
   "execution_count": 5,
   "id": "1deb83c7",
   "metadata": {},
   "outputs": [
    {
     "data": {
      "text/html": [
       "<div>\n",
       "<style scoped>\n",
       "    .dataframe tbody tr th:only-of-type {\n",
       "        vertical-align: middle;\n",
       "    }\n",
       "\n",
       "    .dataframe tbody tr th {\n",
       "        vertical-align: top;\n",
       "    }\n",
       "\n",
       "    .dataframe thead th {\n",
       "        text-align: right;\n",
       "    }\n",
       "</style>\n",
       "<table border=\"1\" class=\"dataframe\">\n",
       "  <thead>\n",
       "    <tr style=\"text-align: right;\">\n",
       "      <th></th>\n",
       "      <th>TOTAL</th>\n",
       "    </tr>\n",
       "    <tr>\n",
       "      <th>DATE</th>\n",
       "      <th></th>\n",
       "    </tr>\n",
       "  </thead>\n",
       "  <tbody>\n",
       "    <tr>\n",
       "      <th>2001-01-01</th>\n",
       "      <td>2017389</td>\n",
       "    </tr>\n",
       "    <tr>\n",
       "      <th>2001-02-01</th>\n",
       "      <td>1993273</td>\n",
       "    </tr>\n",
       "    <tr>\n",
       "      <th>2001-03-01</th>\n",
       "      <td>1981006</td>\n",
       "    </tr>\n",
       "    <tr>\n",
       "      <th>2001-04-01</th>\n",
       "      <td>1910453</td>\n",
       "    </tr>\n",
       "    <tr>\n",
       "      <th>2001-05-01</th>\n",
       "      <td>1898285</td>\n",
       "    </tr>\n",
       "    <tr>\n",
       "      <th>...</th>\n",
       "      <td>...</td>\n",
       "    </tr>\n",
       "    <tr>\n",
       "      <th>2022-06-01</th>\n",
       "      <td>2880582</td>\n",
       "    </tr>\n",
       "    <tr>\n",
       "      <th>2022-07-01</th>\n",
       "      <td>2883812</td>\n",
       "    </tr>\n",
       "    <tr>\n",
       "      <th>2022-08-01</th>\n",
       "      <td>2924240</td>\n",
       "    </tr>\n",
       "    <tr>\n",
       "      <th>2022-09-01</th>\n",
       "      <td>2941919</td>\n",
       "    </tr>\n",
       "    <tr>\n",
       "      <th>2022-10-01</th>\n",
       "      <td>2914892</td>\n",
       "    </tr>\n",
       "  </tbody>\n",
       "</table>\n",
       "<p>262 rows × 1 columns</p>\n",
       "</div>"
      ],
      "text/plain": [
       "              TOTAL\n",
       "DATE               \n",
       "2001-01-01  2017389\n",
       "2001-02-01  1993273\n",
       "2001-03-01  1981006\n",
       "2001-04-01  1910453\n",
       "2001-05-01  1898285\n",
       "...             ...\n",
       "2022-06-01  2880582\n",
       "2022-07-01  2883812\n",
       "2022-08-01  2924240\n",
       "2022-09-01  2941919\n",
       "2022-10-01  2914892\n",
       "\n",
       "[262 rows x 1 columns]"
      ]
     },
     "execution_count": 5,
     "metadata": {},
     "output_type": "execute_result"
    }
   ],
   "source": [
    "df_unemployment = df[['TOTAL']] # Maintain data.frame format for column\n",
    "df_unemployment"
   ]
  },
  {
   "cell_type": "code",
   "execution_count": 6,
   "id": "7d46f873",
   "metadata": {},
   "outputs": [
    {
     "data": {
      "text/plain": [
       "<Figure size 432x288 with 0 Axes>"
      ]
     },
     "metadata": {},
     "output_type": "display_data"
    },
    {
     "data": {
      "image/png": "[encoded data removed]",
      "text/plain": [
       "<Figure size 432x288 with 4 Axes>"
      ]
     },
     "metadata": {
      "needs_background": "light"
     },
     "output_type": "display_data"
    }
   ],
   "source": [
    "# Multplicative Decomposition\n",
    "result_mul = seasonal_decompose(df_unemployment['TOTAL'], model='multiplicative')\n",
    "plt.figure()\n",
    "result_mul.plot()\n",
    "plt.show()"
   ]
  },
  {
   "cell_type": "code",
   "execution_count": 7,
   "id": "d68eee4e",
   "metadata": {},
   "outputs": [
    {
     "data": {
      "text/plain": [
       "[<matplotlib.lines.Line2D at 0x22fc39d7fd0>]"
      ]
     },
     "execution_count": 7,
     "metadata": {},
     "output_type": "execute_result"
    },
    {
     "data": {
      "image/png": "[encoded data removed]",
      "text/plain": [
       "<Figure size 432x288 with 1 Axes>"
      ]
     },
     "metadata": {
      "needs_background": "light"
     },
     "output_type": "display_data"
    }
   ],
   "source": [
    "plt.plot(result_mul.seasonal[:30], color='blue', alpha=0.5, label='Multiplicative seasonal')\n"
   ]
  },
  {
   "cell_type": "markdown",
   "id": "47b0ee1a",
   "metadata": {},
   "source": [
    "Una vez estabilizada la varianza, tengo que analizar la parte estacionaria. Si nos fijamos, vemos que claramente tenemos que diferenciar la media.\n",
    "A continuacion, pintamos de nuevo la distribucion de la varianza. Vemos que ahora es una linea horizontal y que, además, el valor de lambda es muy cercano a 1. Esto nos indica que se ha estabilizado correctamente.\n"
   ]
  },
  {
   "cell_type": "code",
   "execution_count": 8,
   "id": "bf3e4540",
   "metadata": {},
   "outputs": [],
   "source": [
    "# Compute Box CoxPlot transformed data\n",
    "BOX_COX = True\n",
    "if BOX_COX:\n",
    "    lmbda = 0.161 #Select lambda\n",
    "    z = st.boxcox(df_unemployment.values[:,0],   lmbda = lmbda) #Convert series to positive if neccesary\n",
    "    #z,lmbda = st.boxcox(df_ts.values[:,0] - min(df_ts.values) + 1) #Convert to positive and automatic selection of lmbda\n",
    "    z = pd.DataFrame(z, columns=df_unemployment.columns.values.tolist())\n",
    "else:\n",
    "    z = df_unemployment"
   ]
  },
  {
   "cell_type": "code",
   "execution_count": 9,
   "id": "0c946be2",
   "metadata": {},
   "outputs": [
    {
     "name": "stdout",
     "output_type": "stream",
     "text": [
      "ADF Statistic: -1.644424\n",
      "p-value: 0.459950\n",
      "Critical Values:\n",
      "\t1%: -3.457\n",
      "\t5%: -2.873\n",
      "\t10%: -2.573\n"
     ]
    }
   ],
   "source": [
    "# Alternative test - Augmented Dickey Fuller Test\n",
    "# Aplicando este test, podemos saber si debemos realizar diferenciacion para la media o no. Si el pvalor es mayor de 0.05, se realiza diferenciacion\n",
    "result = adfuller(z.values)\n",
    "print('ADF Statistic: %f' % result[0])\n",
    "print('p-value: %f' % result[1])\n",
    "print('Critical Values:')\n",
    "for key, value in result[4].items():\n",
    "\tprint('\\t%s: %.3f' % (key, value))"
   ]
  },
  {
   "cell_type": "code",
   "execution_count": 10,
   "id": "e6611dfc",
   "metadata": {},
   "outputs": [
    {
     "data": {
      "text/plain": [
       "array([0.96875, 0.9375 , 0.90625, 0.875  , 0.84375, 0.8125 , 0.78125,\n",
       "       0.75   , 0.71875, 0.6875 , 0.65625, 0.625  , 0.59375, 0.5625 ,\n",
       "       0.53125, 0.5    , 0.46875, 0.4375 , 0.40625, 0.375  , 0.34375,\n",
       "       0.3125 , 0.28125, 0.25   , 0.21875, 0.1875 , 0.15625, 0.125  ,\n",
       "       0.09375, 0.0625 , 0.03125, 0.     ])"
      ]
     },
     "execution_count": 10,
     "metadata": {},
     "output_type": "execute_result"
    }
   ],
   "source": [
    "linear_covid = np.arange(0,1,1/len(df_unemployment.loc[\"2020-03-01\":]))\n",
    "linear_covid = linear_covid[::-1]\n",
    "linear_covid"
   ]
  },
  {
   "cell_type": "code",
   "execution_count": 11,
   "id": "38dd2fcb",
   "metadata": {},
   "outputs": [],
   "source": [
    "uniform_covid = np.random.uniform(0, 1,size=len(df_unemployment.loc[\"2020-03-01\":]))\n",
    "uniform_covid = np.sort(uniform_covid) \n",
    "uniform_covid = uniform_covid[::-1]\n",
    "# plt.plot(uniform_covid)"
   ]
  },
  {
   "cell_type": "markdown",
   "id": "cfcf1af4",
   "metadata": {},
   "source": [
    "Vamos a añadir una columna nueva a nuestro dataframe, indicando con un 0 la epoca en la que no había covid y con un 1 en la que sí.\n",
    "Además, en el rango de fechas en el que si hay covid, vamos a generar una rampa (Decay), para darle más o menos peso al covid en \n",
    "funcion de si estamos más o menos cerca de la cuarentena (Que, como hemos visto, provocó el pico maximo de paro de esas fechas)\n",
    "\n",
    "En concreto, vamos a generar dos columnas, una para un linear decay, en el que estaremos indciandole al modelo que el covid decrece linealmente y un exponential decay, en el que estaremos indicandole un decrecimiento exponencial de la importancia del covid, y compararemos ambos, para ver cuál se ajusta mejor\n"
   ]
  },
  {
   "cell_type": "code",
   "execution_count": 12,
   "id": "4b150532",
   "metadata": {},
   "outputs": [
    {
     "data": {
      "text/html": [
       "<div>\n",
       "<style scoped>\n",
       "    .dataframe tbody tr th:only-of-type {\n",
       "        vertical-align: middle;\n",
       "    }\n",
       "\n",
       "    .dataframe tbody tr th {\n",
       "        vertical-align: top;\n",
       "    }\n",
       "\n",
       "    .dataframe thead th {\n",
       "        text-align: right;\n",
       "    }\n",
       "</style>\n",
       "<table border=\"1\" class=\"dataframe\">\n",
       "  <thead>\n",
       "    <tr style=\"text-align: right;\">\n",
       "      <th></th>\n",
       "      <th>TOTAL</th>\n",
       "      <th>COVID_L</th>\n",
       "    </tr>\n",
       "    <tr>\n",
       "      <th>DATE</th>\n",
       "      <th></th>\n",
       "      <th></th>\n",
       "    </tr>\n",
       "  </thead>\n",
       "  <tbody>\n",
       "    <tr>\n",
       "      <th>2001-01-01</th>\n",
       "      <td>2017389</td>\n",
       "      <td>0.00000</td>\n",
       "    </tr>\n",
       "    <tr>\n",
       "      <th>2001-02-01</th>\n",
       "      <td>1993273</td>\n",
       "      <td>0.00000</td>\n",
       "    </tr>\n",
       "    <tr>\n",
       "      <th>2001-03-01</th>\n",
       "      <td>1981006</td>\n",
       "      <td>0.00000</td>\n",
       "    </tr>\n",
       "    <tr>\n",
       "      <th>2001-04-01</th>\n",
       "      <td>1910453</td>\n",
       "      <td>0.00000</td>\n",
       "    </tr>\n",
       "    <tr>\n",
       "      <th>2001-05-01</th>\n",
       "      <td>1898285</td>\n",
       "      <td>0.00000</td>\n",
       "    </tr>\n",
       "    <tr>\n",
       "      <th>...</th>\n",
       "      <td>...</td>\n",
       "      <td>...</td>\n",
       "    </tr>\n",
       "    <tr>\n",
       "      <th>2022-06-01</th>\n",
       "      <td>2880582</td>\n",
       "      <td>0.12500</td>\n",
       "    </tr>\n",
       "    <tr>\n",
       "      <th>2022-07-01</th>\n",
       "      <td>2883812</td>\n",
       "      <td>0.09375</td>\n",
       "    </tr>\n",
       "    <tr>\n",
       "      <th>2022-08-01</th>\n",
       "      <td>2924240</td>\n",
       "      <td>0.06250</td>\n",
       "    </tr>\n",
       "    <tr>\n",
       "      <th>2022-09-01</th>\n",
       "      <td>2941919</td>\n",
       "      <td>0.03125</td>\n",
       "    </tr>\n",
       "    <tr>\n",
       "      <th>2022-10-01</th>\n",
       "      <td>2914892</td>\n",
       "      <td>0.00000</td>\n",
       "    </tr>\n",
       "  </tbody>\n",
       "</table>\n",
       "<p>262 rows × 2 columns</p>\n",
       "</div>"
      ],
      "text/plain": [
       "              TOTAL  COVID_L\n",
       "DATE                        \n",
       "2001-01-01  2017389  0.00000\n",
       "2001-02-01  1993273  0.00000\n",
       "2001-03-01  1981006  0.00000\n",
       "2001-04-01  1910453  0.00000\n",
       "2001-05-01  1898285  0.00000\n",
       "...             ...      ...\n",
       "2022-06-01  2880582  0.12500\n",
       "2022-07-01  2883812  0.09375\n",
       "2022-08-01  2924240  0.06250\n",
       "2022-09-01  2941919  0.03125\n",
       "2022-10-01  2914892  0.00000\n",
       "\n",
       "[262 rows x 2 columns]"
      ]
     },
     "execution_count": 12,
     "metadata": {},
     "output_type": "execute_result"
    }
   ],
   "source": [
    "df_unemployment[\"COVID_L\"] = 0\n",
    "\n",
    "df_unemployment.loc[\"2020-03-01\":, \"COVID_L\"] = linear_covid\n",
    "df_unemployment"
   ]
  },
  {
   "cell_type": "code",
   "execution_count": 13,
   "id": "ce8a14fc",
   "metadata": {},
   "outputs": [
    {
     "data": {
      "image/png": "[encoded data removed]",
      "text/plain": [
       "<Figure size 432x288 with 1 Axes>"
      ]
     },
     "metadata": {
      "needs_background": "light"
     },
     "output_type": "display_data"
    }
   ],
   "source": [
    "plt.plot(df_unemployment[100:][\"COVID_L\"])\n",
    "plt.show()"
   ]
  },
  {
   "cell_type": "code",
   "execution_count": 14,
   "id": "2f4921ea",
   "metadata": {},
   "outputs": [
    {
     "data": {
      "text/html": [
       "<div>\n",
       "<style scoped>\n",
       "    .dataframe tbody tr th:only-of-type {\n",
       "        vertical-align: middle;\n",
       "    }\n",
       "\n",
       "    .dataframe tbody tr th {\n",
       "        vertical-align: top;\n",
       "    }\n",
       "\n",
       "    .dataframe thead th {\n",
       "        text-align: right;\n",
       "    }\n",
       "</style>\n",
       "<table border=\"1\" class=\"dataframe\">\n",
       "  <thead>\n",
       "    <tr style=\"text-align: right;\">\n",
       "      <th></th>\n",
       "      <th>TOTAL</th>\n",
       "      <th>COVID_L</th>\n",
       "      <th>COVID_U</th>\n",
       "    </tr>\n",
       "    <tr>\n",
       "      <th>DATE</th>\n",
       "      <th></th>\n",
       "      <th></th>\n",
       "      <th></th>\n",
       "    </tr>\n",
       "  </thead>\n",
       "  <tbody>\n",
       "    <tr>\n",
       "      <th>2001-01-01</th>\n",
       "      <td>2017389</td>\n",
       "      <td>0.00000</td>\n",
       "      <td>0.000000</td>\n",
       "    </tr>\n",
       "    <tr>\n",
       "      <th>2001-02-01</th>\n",
       "      <td>1993273</td>\n",
       "      <td>0.00000</td>\n",
       "      <td>0.000000</td>\n",
       "    </tr>\n",
       "    <tr>\n",
       "      <th>2001-03-01</th>\n",
       "      <td>1981006</td>\n",
       "      <td>0.00000</td>\n",
       "      <td>0.000000</td>\n",
       "    </tr>\n",
       "    <tr>\n",
       "      <th>2001-04-01</th>\n",
       "      <td>1910453</td>\n",
       "      <td>0.00000</td>\n",
       "      <td>0.000000</td>\n",
       "    </tr>\n",
       "    <tr>\n",
       "      <th>2001-05-01</th>\n",
       "      <td>1898285</td>\n",
       "      <td>0.00000</td>\n",
       "      <td>0.000000</td>\n",
       "    </tr>\n",
       "    <tr>\n",
       "      <th>...</th>\n",
       "      <td>...</td>\n",
       "      <td>...</td>\n",
       "      <td>...</td>\n",
       "    </tr>\n",
       "    <tr>\n",
       "      <th>2022-06-01</th>\n",
       "      <td>2880582</td>\n",
       "      <td>0.12500</td>\n",
       "      <td>0.049202</td>\n",
       "    </tr>\n",
       "    <tr>\n",
       "      <th>2022-07-01</th>\n",
       "      <td>2883812</td>\n",
       "      <td>0.09375</td>\n",
       "      <td>0.045802</td>\n",
       "    </tr>\n",
       "    <tr>\n",
       "      <th>2022-08-01</th>\n",
       "      <td>2924240</td>\n",
       "      <td>0.06250</td>\n",
       "      <td>0.025397</td>\n",
       "    </tr>\n",
       "    <tr>\n",
       "      <th>2022-09-01</th>\n",
       "      <td>2941919</td>\n",
       "      <td>0.03125</td>\n",
       "      <td>0.023834</td>\n",
       "    </tr>\n",
       "    <tr>\n",
       "      <th>2022-10-01</th>\n",
       "      <td>2914892</td>\n",
       "      <td>0.00000</td>\n",
       "      <td>0.003921</td>\n",
       "    </tr>\n",
       "  </tbody>\n",
       "</table>\n",
       "<p>262 rows × 3 columns</p>\n",
       "</div>"
      ],
      "text/plain": [
       "              TOTAL  COVID_L   COVID_U\n",
       "DATE                                  \n",
       "2001-01-01  2017389  0.00000  0.000000\n",
       "2001-02-01  1993273  0.00000  0.000000\n",
       "2001-03-01  1981006  0.00000  0.000000\n",
       "2001-04-01  1910453  0.00000  0.000000\n",
       "2001-05-01  1898285  0.00000  0.000000\n",
       "...             ...      ...       ...\n",
       "2022-06-01  2880582  0.12500  0.049202\n",
       "2022-07-01  2883812  0.09375  0.045802\n",
       "2022-08-01  2924240  0.06250  0.025397\n",
       "2022-09-01  2941919  0.03125  0.023834\n",
       "2022-10-01  2914892  0.00000  0.003921\n",
       "\n",
       "[262 rows x 3 columns]"
      ]
     },
     "execution_count": 14,
     "metadata": {},
     "output_type": "execute_result"
    }
   ],
   "source": [
    "df_unemployment['COVID_U'] = 0\n",
    "\n",
    "df_unemployment.loc[\"2020-03-01\":, \"COVID_U\"] = uniform_covid\n",
    "df_unemployment"
   ]
  },
  {
   "cell_type": "code",
   "execution_count": 15,
   "id": "d9b232f0",
   "metadata": {},
   "outputs": [
    {
     "data": {
      "image/png": "[encoded data removed]",
      "text/plain": [
       "<Figure size 432x288 with 1 Axes>"
      ]
     },
     "metadata": {
      "needs_background": "light"
     },
     "output_type": "display_data"
    }
   ],
   "source": [
    "plt.plot(df_unemployment[100:][\"COVID_U\"])\n",
    "plt.show()"
   ]
  },
  {
   "cell_type": "code",
   "execution_count": 16,
   "id": "7e6de5c3",
   "metadata": {},
   "outputs": [],
   "source": [
    "df_unemployment_save = df_unemployment.copy()"
   ]
  },
  {
   "cell_type": "code",
   "execution_count": 17,
   "id": "89fd997d",
   "metadata": {},
   "outputs": [],
   "source": [
    "df_unemployment = df_unemployment_save.copy()"
   ]
  },
  {
   "cell_type": "code",
   "execution_count": 18,
   "id": "35ff1c03",
   "metadata": {},
   "outputs": [],
   "source": [
    "# Define input and output matrices\n",
    "INPUTS = ['COVID_L', 'COVID_U']\n",
    "OUTPUT = 'TOTAL'\n",
    "\n",
    "# We have categorical inputs with many classes. We will create dummy variables automatically after\n",
    "X = df_unemployment[INPUTS]\n",
    "y = df_unemployment[OUTPUT]\n"
   ]
  },
  {
   "cell_type": "code",
   "execution_count": 19,
   "id": "2d6b9456",
   "metadata": {},
   "outputs": [
    {
     "name": "stderr",
     "output_type": "stream",
     "text": [
      "C:\\Users\\enriq\\anaconda3\\envs\\ml\\lib\\site-packages\\statsmodels\\tsa\\base\\tsa_model.py:471: ValueWarning: No frequency information was provided, so inferred frequency MS will be used.\n",
      "  self._init_dates(dates, freq)\n",
      "C:\\Users\\enriq\\anaconda3\\envs\\ml\\lib\\site-packages\\statsmodels\\tsa\\base\\tsa_model.py:471: ValueWarning: No frequency information was provided, so inferred frequency MS will be used.\n",
      "  self._init_dates(dates, freq)\n"
     ]
    },
    {
     "data": {
      "text/html": [
       "<table class=\"simpletable\">\n",
       "<caption>SARIMAX Results</caption>\n",
       "<tr>\n",
       "  <th>Dep. Variable:</th>                 <td>TOTAL</td>              <th>  No. Observations:  </th>    <td>262</td>   \n",
       "</tr>\n",
       "<tr>\n",
       "  <th>Model:</th>           <td>SARIMAX(1, 1, 3)x(1, 1, [1], 12)</td> <th>  Log Likelihood     </th> <td>-2826.223</td>\n",
       "</tr>\n",
       "<tr>\n",
       "  <th>Date:</th>                    <td>Thu, 16 Feb 2023</td>         <th>  AIC                </th> <td>5672.447</td> \n",
       "</tr>\n",
       "<tr>\n",
       "  <th>Time:</th>                        <td>20:30:14</td>             <th>  BIC                </th> <td>5706.957</td> \n",
       "</tr>\n",
       "<tr>\n",
       "  <th>Sample:</th>                     <td>01-01-2001</td>            <th>  HQIC               </th> <td>5686.363</td> \n",
       "</tr>\n",
       "<tr>\n",
       "  <th></th>                           <td>- 10-01-2022</td>           <th>                     </th>     <td> </td>    \n",
       "</tr>\n",
       "<tr>\n",
       "  <th>Covariance Type:</th>                <td>opg</td>               <th>                     </th>     <td> </td>    \n",
       "</tr>\n",
       "</table>\n",
       "<table class=\"simpletable\">\n",
       "<tr>\n",
       "      <td></td>         <th>coef</th>     <th>std err</th>      <th>z</th>      <th>P>|z|</th>  <th>[0.025</th>    <th>0.975]</th>  \n",
       "</tr>\n",
       "<tr>\n",
       "  <th>intercept</th> <td> -351.5873</td> <td> 1656.786</td> <td>   -0.212</td> <td> 0.832</td> <td>-3598.828</td> <td> 2895.653</td>\n",
       "</tr>\n",
       "<tr>\n",
       "  <th>COVID_L</th>   <td> 5.164e+05</td> <td> 1.75e+05</td> <td>    2.957</td> <td> 0.003</td> <td> 1.74e+05</td> <td> 8.59e+05</td>\n",
       "</tr>\n",
       "<tr>\n",
       "  <th>COVID_U</th>   <td>-1.755e+05</td> <td> 1.79e+05</td> <td>   -0.979</td> <td> 0.328</td> <td>-5.27e+05</td> <td> 1.76e+05</td>\n",
       "</tr>\n",
       "<tr>\n",
       "  <th>ar.L1</th>     <td>    0.8564</td> <td>    0.114</td> <td>    7.514</td> <td> 0.000</td> <td>    0.633</td> <td>    1.080</td>\n",
       "</tr>\n",
       "<tr>\n",
       "  <th>ma.L1</th>     <td>   -0.3930</td> <td>    0.136</td> <td>   -2.887</td> <td> 0.004</td> <td>   -0.660</td> <td>   -0.126</td>\n",
       "</tr>\n",
       "<tr>\n",
       "  <th>ma.L2</th>     <td>   -0.0182</td> <td>    0.118</td> <td>   -0.155</td> <td> 0.877</td> <td>   -0.249</td> <td>    0.212</td>\n",
       "</tr>\n",
       "<tr>\n",
       "  <th>ma.L3</th>     <td>   -0.1231</td> <td>    0.069</td> <td>   -1.788</td> <td> 0.074</td> <td>   -0.258</td> <td>    0.012</td>\n",
       "</tr>\n",
       "<tr>\n",
       "  <th>ar.S.L12</th>  <td>   -0.2327</td> <td>    0.059</td> <td>   -3.952</td> <td> 0.000</td> <td>   -0.348</td> <td>   -0.117</td>\n",
       "</tr>\n",
       "<tr>\n",
       "  <th>ma.S.L12</th>  <td>   -0.1544</td> <td>    0.044</td> <td>   -3.475</td> <td> 0.001</td> <td>   -0.241</td> <td>   -0.067</td>\n",
       "</tr>\n",
       "<tr>\n",
       "  <th>sigma2</th>    <td> 2.332e+09</td> <td>   71.899</td> <td> 3.24e+07</td> <td> 0.000</td> <td> 2.33e+09</td> <td> 2.33e+09</td>\n",
       "</tr>\n",
       "</table>\n",
       "<table class=\"simpletable\">\n",
       "<tr>\n",
       "  <th>Ljung-Box (L1) (Q):</th>     <td>0.01</td> <th>  Jarque-Bera (JB):  </th> <td>5642.20</td>\n",
       "</tr>\n",
       "<tr>\n",
       "  <th>Prob(Q):</th>                <td>0.94</td> <th>  Prob(JB):          </th>  <td>0.00</td>  \n",
       "</tr>\n",
       "<tr>\n",
       "  <th>Heteroskedasticity (H):</th> <td>3.57</td> <th>  Skew:              </th>  <td>2.33</td>  \n",
       "</tr>\n",
       "<tr>\n",
       "  <th>Prob(H) (two-sided):</th>    <td>0.00</td> <th>  Kurtosis:          </th>  <td>26.65</td> \n",
       "</tr>\n",
       "</table><br/><br/>Warnings:<br/>[1] Covariance matrix calculated using the outer product of gradients (complex-step).<br/>[2] Covariance matrix is singular or near-singular, with condition number 2.88e+23. Standard errors may be unstable."
      ],
      "text/plain": [
       "<class 'statsmodels.iolib.summary.Summary'>\n",
       "\"\"\"\n",
       "                                      SARIMAX Results                                       \n",
       "============================================================================================\n",
       "Dep. Variable:                                TOTAL   No. Observations:                  262\n",
       "Model:             SARIMAX(1, 1, 3)x(1, 1, [1], 12)   Log Likelihood               -2826.223\n",
       "Date:                              Thu, 16 Feb 2023   AIC                           5672.447\n",
       "Time:                                      20:30:14   BIC                           5706.957\n",
       "Sample:                                  01-01-2001   HQIC                          5686.363\n",
       "                                       - 10-01-2022                                         \n",
       "Covariance Type:                                opg                                         \n",
       "==============================================================================\n",
       "                 coef    std err          z      P>|z|      [0.025      0.975]\n",
       "------------------------------------------------------------------------------\n",
       "intercept   -351.5873   1656.786     -0.212      0.832   -3598.828    2895.653\n",
       "COVID_L     5.164e+05   1.75e+05      2.957      0.003    1.74e+05    8.59e+05\n",
       "COVID_U    -1.755e+05   1.79e+05     -0.979      0.328   -5.27e+05    1.76e+05\n",
       "ar.L1          0.8564      0.114      7.514      0.000       0.633       1.080\n",
       "ma.L1         -0.3930      0.136     -2.887      0.004      -0.660      -0.126\n",
       "ma.L2         -0.0182      0.118     -0.155      0.877      -0.249       0.212\n",
       "ma.L3         -0.1231      0.069     -1.788      0.074      -0.258       0.012\n",
       "ar.S.L12      -0.2327      0.059     -3.952      0.000      -0.348      -0.117\n",
       "ma.S.L12      -0.1544      0.044     -3.475      0.001      -0.241      -0.067\n",
       "sigma2      2.332e+09     71.899   3.24e+07      0.000    2.33e+09    2.33e+09\n",
       "===================================================================================\n",
       "Ljung-Box (L1) (Q):                   0.01   Jarque-Bera (JB):              5642.20\n",
       "Prob(Q):                              0.94   Prob(JB):                         0.00\n",
       "Heteroskedasticity (H):               3.57   Skew:                             2.33\n",
       "Prob(H) (two-sided):                  0.00   Kurtosis:                        26.65\n",
       "===================================================================================\n",
       "\n",
       "Warnings:\n",
       "[1] Covariance matrix calculated using the outer product of gradients (complex-step).\n",
       "[2] Covariance matrix is singular or near-singular, with condition number 2.88e+23. Standard errors may be unstable.\n",
       "\"\"\""
      ]
     },
     "execution_count": 19,
     "metadata": {},
     "output_type": "execute_result"
    }
   ],
   "source": [
    "# We could also fit a more complicated model with ARMA with seasonal components.\n",
    "mod_sarimax = sm.tsa.SARIMAX(endog = y, \n",
    "                            trend = 'c',\n",
    "                            order=(1,1,3), # Regular components (p,d,q)\n",
    "                            seasonal_order=(1, 1, 1, 12),  # Seasonal components [P,D,Q,S] \n",
    "                            #  ORDEN DE SARIMA (anterior)\n",
    "                            # order=(1,1,0), # Regular components (p,d,q) --> en el d ponemos un 1 porque hemos decidido diferenciar. AR(1)\n",
    "                            # seasonal_order=(0, 1, 1, 12),  # Seasonal components [P,D,Q,S] --> Estacionales - MA(1)\n",
    "                            exog = X,\n",
    "                            enforce_invertibility=False, \n",
    "                            enforce_stationarity=False)\n",
    "res_sarimax = mod_sarimax.fit()\n",
    "\n",
    "# Show the summary of results\n",
    "res_sarimax.summary()"
   ]
  },
  {
   "cell_type": "code",
   "execution_count": 20,
   "id": "98f5fa89",
   "metadata": {},
   "outputs": [
    {
     "name": "stderr",
     "output_type": "stream",
     "text": [
      "C:\\Users\\enriq\\anaconda3\\envs\\ml\\lib\\site-packages\\statsmodels\\graphics\\tsaplots.py:348: FutureWarning: The default method 'yw' can produce PACF values outside of the [-1,1] interval. After 0.13, the default will change tounadjusted Yule-Walker ('ywm'). You can use this method now by setting method='ywm'.\n",
      "  warnings.warn(\n"
     ]
    },
    {
     "data": {
      "image/png": "[encoded data removed]",
      "text/plain": [
       "<Figure size 432x288 with 1 Axes>"
      ]
     },
     "execution_count": 20,
     "metadata": {},
     "output_type": "execute_result"
    },
    {
     "data": {
      "text/plain": [
       "<Figure size 432x288 with 0 Axes>"
      ]
     },
     "metadata": {},
     "output_type": "display_data"
    },
    {
     "data": {
      "image/png": "[encoded data removed]",
      "text/plain": [
       "<Figure size 432x288 with 1 Axes>"
      ]
     },
     "metadata": {
      "needs_background": "light"
     },
     "output_type": "display_data"
    },
    {
     "data": {
      "image/png": "[encoded data removed]",
      "text/plain": [
       "<Figure size 432x288 with 1 Axes>"
      ]
     },
     "metadata": {
      "needs_background": "light"
     },
     "output_type": "display_data"
    }
   ],
   "source": [
    "#Bigger plots\n",
    "from statsmodels.graphics.tsaplots import plot_acf, plot_pacf\n",
    "plt.figure()\n",
    "plot_acf(res_sarimax.resid.loc[\"2003-01-01\":], lags=50,zero=False)\n",
    "plot_pacf(res_sarimax.resid.loc[\"2003-01-01\":], lags=50,zero=False)"
   ]
  },
  {
   "cell_type": "code",
   "execution_count": 21,
   "id": "137a5a1d",
   "metadata": {},
   "outputs": [
    {
     "name": "stdout",
     "output_type": "stream",
     "text": [
      "2021-11-01    3.226738e+06\n",
      "2021-12-01    3.122732e+06\n",
      "2022-01-01    3.103449e+06\n",
      "2022-02-01    3.106745e+06\n",
      "2022-03-01    3.038839e+06\n",
      "2022-04-01    3.181490e+06\n",
      "2022-05-01    2.869412e+06\n",
      "2022-06-01    2.776311e+06\n",
      "2022-07-01    2.758337e+06\n",
      "2022-08-01    2.920456e+06\n",
      "2022-09-01    2.910877e+06\n",
      "2022-10-01    3.004387e+06\n",
      "2022-11-01    2.883638e+06\n",
      "2022-12-01    2.851761e+06\n",
      "Freq: MS, Name: predicted_mean, dtype: float64\n"
     ]
    },
    {
     "data": {
      "image/png": "[encoded data removed]",
      "text/plain": [
       "<Figure size 432x288 with 1 Axes>"
      ]
     },
     "metadata": {
      "needs_background": "light"
     },
     "output_type": "display_data"
    }
   ],
   "source": [
    "#Obtain forecasts for in-sample and out-of-sample\n",
    "start = 250\n",
    "horizon = 1\n",
    "end = df_unemployment.shape[0] + horizon\n",
    "\n",
    "pred = res_sarimax.get_prediction(start=start, \n",
    "                                    end= end, \n",
    "                                    exog = df_unemployment[INPUTS][0:2],\n",
    "                                    dynamic=False)\n",
    "yhat = pred.predicted_mean\n",
    "yhat_conf_int = pred.conf_int(alpha=0.05)\n",
    "print(yhat)\n",
    "pred_sarimax = yhat\n",
    "initial_date = df_unemployment.index[start]\n",
    "\n",
    "plt.figure()\n",
    "plt.fill_between(yhat_conf_int.index,\n",
    "                yhat_conf_int.iloc[:, 0],\n",
    "                yhat_conf_int.iloc[:, 1], color='k', alpha=.2)\n",
    "plt.plot(df_unemployment[\"TOTAL\"].loc[initial_date:])\n",
    "plt.plot(yhat)\n",
    "plt.show()"
   ]
  },
  {
   "cell_type": "code",
   "execution_count": 22,
   "id": "34b01b3a",
   "metadata": {},
   "outputs": [],
   "source": [
    "df_predicciones = pd.DataFrame()"
   ]
  },
  {
   "cell_type": "code",
   "execution_count": 23,
   "id": "f6cb8741",
   "metadata": {},
   "outputs": [],
   "source": [
    "df_predicciones['pred_sarimaX'] = pred_sarimax[:-1]\n",
    "df_predicciones['original'] = df[['TOTAL']][250:]"
   ]
  },
  {
   "cell_type": "code",
   "execution_count": 24,
   "id": "d6180ac2",
   "metadata": {},
   "outputs": [
    {
     "data": {
      "text/html": [
       "<div>\n",
       "<style scoped>\n",
       "    .dataframe tbody tr th:only-of-type {\n",
       "        vertical-align: middle;\n",
       "    }\n",
       "\n",
       "    .dataframe tbody tr th {\n",
       "        vertical-align: top;\n",
       "    }\n",
       "\n",
       "    .dataframe thead th {\n",
       "        text-align: right;\n",
       "    }\n",
       "</style>\n",
       "<table border=\"1\" class=\"dataframe\">\n",
       "  <thead>\n",
       "    <tr style=\"text-align: right;\">\n",
       "      <th></th>\n",
       "      <th>pred_sarimaX</th>\n",
       "      <th>original</th>\n",
       "    </tr>\n",
       "  </thead>\n",
       "  <tbody>\n",
       "    <tr>\n",
       "      <th>2021-11-01</th>\n",
       "      <td>3.226738e+06</td>\n",
       "      <td>3182687.0</td>\n",
       "    </tr>\n",
       "    <tr>\n",
       "      <th>2021-12-01</th>\n",
       "      <td>3.122732e+06</td>\n",
       "      <td>3105905.0</td>\n",
       "    </tr>\n",
       "    <tr>\n",
       "      <th>2022-01-01</th>\n",
       "      <td>3.103449e+06</td>\n",
       "      <td>3123078.0</td>\n",
       "    </tr>\n",
       "    <tr>\n",
       "      <th>2022-02-01</th>\n",
       "      <td>3.106745e+06</td>\n",
       "      <td>3111684.0</td>\n",
       "    </tr>\n",
       "    <tr>\n",
       "      <th>2022-03-01</th>\n",
       "      <td>3.038839e+06</td>\n",
       "      <td>3108763.0</td>\n",
       "    </tr>\n",
       "    <tr>\n",
       "      <th>2022-04-01</th>\n",
       "      <td>3.181490e+06</td>\n",
       "      <td>3022503.0</td>\n",
       "    </tr>\n",
       "    <tr>\n",
       "      <th>2022-05-01</th>\n",
       "      <td>2.869412e+06</td>\n",
       "      <td>2922911.0</td>\n",
       "    </tr>\n",
       "    <tr>\n",
       "      <th>2022-06-01</th>\n",
       "      <td>2.776311e+06</td>\n",
       "      <td>2880582.0</td>\n",
       "    </tr>\n",
       "    <tr>\n",
       "      <th>2022-07-01</th>\n",
       "      <td>2.758337e+06</td>\n",
       "      <td>2883812.0</td>\n",
       "    </tr>\n",
       "    <tr>\n",
       "      <th>2022-08-01</th>\n",
       "      <td>2.920456e+06</td>\n",
       "      <td>2924240.0</td>\n",
       "    </tr>\n",
       "    <tr>\n",
       "      <th>2022-09-01</th>\n",
       "      <td>2.910877e+06</td>\n",
       "      <td>2941919.0</td>\n",
       "    </tr>\n",
       "    <tr>\n",
       "      <th>2022-10-01</th>\n",
       "      <td>3.004387e+06</td>\n",
       "      <td>2914892.0</td>\n",
       "    </tr>\n",
       "    <tr>\n",
       "      <th>2022-11-01</th>\n",
       "      <td>2.883638e+06</td>\n",
       "      <td>NaN</td>\n",
       "    </tr>\n",
       "  </tbody>\n",
       "</table>\n",
       "</div>"
      ],
      "text/plain": [
       "            pred_sarimaX   original\n",
       "2021-11-01  3.226738e+06  3182687.0\n",
       "2021-12-01  3.122732e+06  3105905.0\n",
       "2022-01-01  3.103449e+06  3123078.0\n",
       "2022-02-01  3.106745e+06  3111684.0\n",
       "2022-03-01  3.038839e+06  3108763.0\n",
       "2022-04-01  3.181490e+06  3022503.0\n",
       "2022-05-01  2.869412e+06  2922911.0\n",
       "2022-06-01  2.776311e+06  2880582.0\n",
       "2022-07-01  2.758337e+06  2883812.0\n",
       "2022-08-01  2.920456e+06  2924240.0\n",
       "2022-09-01  2.910877e+06  2941919.0\n",
       "2022-10-01  3.004387e+06  2914892.0\n",
       "2022-11-01  2.883638e+06        NaN"
      ]
     },
     "execution_count": 24,
     "metadata": {},
     "output_type": "execute_result"
    }
   ],
   "source": [
    "df_predicciones"
   ]
  },
  {
   "cell_type": "code",
   "execution_count": 25,
   "id": "18734ab0",
   "metadata": {},
   "outputs": [
    {
     "data": {
      "image/png": "[encoded data removed]",
      "text/plain": [
       "<Figure size 432x288 with 1 Axes>"
      ]
     },
     "metadata": {
      "needs_background": "light"
     },
     "output_type": "display_data"
    }
   ],
   "source": [
    "df_predicciones.plot()\n",
    "plt.show()"
   ]
  },
  {
   "cell_type": "code",
   "execution_count": 26,
   "id": "a6a5ee71",
   "metadata": {},
   "outputs": [
    {
     "name": "stdout",
     "output_type": "stream",
     "text": [
      "El numero de parados en octubre fue de 2914892.0 personas.\n",
      "Nuestro modelo predice que el numero de parados de noviembre de 2022 es de: 2883638 personas\n"
     ]
    }
   ],
   "source": [
    "# Ahora podemos obtener el numero de personas que predice nuestro modelo \n",
    "num_parados_noviembre = yhat.loc[\"2022-11-01\"]\n",
    "num_parados_octubre = df_unemployment.loc[\"2022-10-01\"][\"TOTAL\"]\n",
    "print(f\"El numero de parados en octubre fue de {num_parados_octubre} personas.\")\n",
    "print(f\"Nuestro modelo predice que el numero de parados de noviembre de 2022 es de: {int(num_parados_noviembre)} personas\")"
   ]
  },
  {
   "cell_type": "markdown",
   "id": "9b4cfc53",
   "metadata": {},
   "source": [
    "El paro **REAL** del mes de Noviembre fue de **2.881.380** por lo que hemos fallado por 2258 personas,... **BASTANTE BIEN!**"
   ]
  }
 ],
 "metadata": {
  "kernelspec": {
   "display_name": "Python 3 (ipykernel)",
   "language": "python",
   "name": "python3"
  },
  "language_info": {
   "codemirror_mode": {
    "name": "ipython",
    "version": 3
   },
   "file_extension": ".py",
   "mimetype": "text/x-python",
   "name": "python",
   "nbconvert_exporter": "python",
   "pygments_lexer": "ipython3",
   "version": "3.10.4"
  }
 },
 "nbformat": 4,
 "nbformat_minor": 5
}
